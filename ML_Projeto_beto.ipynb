{
 "cells": [
  {
   "cell_type": "code",
   "execution_count": 5,
   "id": "5ce62e2b-3ad7-4f94-bf3b-a1645fb6e9c3",
   "metadata": {},
   "outputs": [
    {
     "name": "stdout",
     "output_type": "stream",
     "text": [
      "Collecting seaborn==0.12.2\n",
      "  Downloading seaborn-0.12.2-py3-none-any.whl.metadata (5.4 kB)\n",
      "Requirement already satisfied: numpy!=1.24.0,>=1.17 in /home/betomendes/.pyenv/versions/3.9.18/envs/pro_mlearning/lib/python3.9/site-packages (from seaborn==0.12.2) (1.26.4)\n",
      "Requirement already satisfied: pandas>=0.25 in /home/betomendes/.pyenv/versions/3.9.18/envs/pro_mlearning/lib/python3.9/site-packages (from seaborn==0.12.2) (2.2.2)\n",
      "Collecting matplotlib!=3.6.1,>=3.1 (from seaborn==0.12.2)\n",
      "  Downloading matplotlib-3.9.0-cp39-cp39-manylinux_2_17_x86_64.manylinux2014_x86_64.whl.metadata (11 kB)\n",
      "Collecting contourpy>=1.0.1 (from matplotlib!=3.6.1,>=3.1->seaborn==0.12.2)\n",
      "  Using cached contourpy-1.2.1-cp39-cp39-manylinux_2_17_x86_64.manylinux2014_x86_64.whl.metadata (5.8 kB)\n",
      "Collecting cycler>=0.10 (from matplotlib!=3.6.1,>=3.1->seaborn==0.12.2)\n",
      "  Using cached cycler-0.12.1-py3-none-any.whl.metadata (3.8 kB)\n",
      "Collecting fonttools>=4.22.0 (from matplotlib!=3.6.1,>=3.1->seaborn==0.12.2)\n",
      "  Using cached fonttools-4.51.0-cp39-cp39-manylinux_2_17_x86_64.manylinux2014_x86_64.whl.metadata (159 kB)\n",
      "Collecting kiwisolver>=1.3.1 (from matplotlib!=3.6.1,>=3.1->seaborn==0.12.2)\n",
      "  Using cached kiwisolver-1.4.5-cp39-cp39-manylinux_2_12_x86_64.manylinux2010_x86_64.whl.metadata (6.4 kB)\n",
      "Requirement already satisfied: packaging>=20.0 in /home/betomendes/.pyenv/versions/3.9.18/envs/pro_mlearning/lib/python3.9/site-packages (from matplotlib!=3.6.1,>=3.1->seaborn==0.12.2) (24.0)\n",
      "Collecting pillow>=8 (from matplotlib!=3.6.1,>=3.1->seaborn==0.12.2)\n",
      "  Using cached pillow-10.3.0-cp39-cp39-manylinux_2_28_x86_64.whl.metadata (9.2 kB)\n",
      "Collecting pyparsing>=2.3.1 (from matplotlib!=3.6.1,>=3.1->seaborn==0.12.2)\n",
      "  Using cached pyparsing-3.1.2-py3-none-any.whl.metadata (5.1 kB)\n",
      "Requirement already satisfied: python-dateutil>=2.7 in /home/betomendes/.pyenv/versions/3.9.18/envs/pro_mlearning/lib/python3.9/site-packages (from matplotlib!=3.6.1,>=3.1->seaborn==0.12.2) (2.9.0.post0)\n",
      "Collecting importlib-resources>=3.2.0 (from matplotlib!=3.6.1,>=3.1->seaborn==0.12.2)\n",
      "  Using cached importlib_resources-6.4.0-py3-none-any.whl.metadata (3.9 kB)\n",
      "Requirement already satisfied: pytz>=2020.1 in /home/betomendes/.pyenv/versions/3.9.18/envs/pro_mlearning/lib/python3.9/site-packages (from pandas>=0.25->seaborn==0.12.2) (2024.1)\n",
      "Requirement already satisfied: tzdata>=2022.7 in /home/betomendes/.pyenv/versions/3.9.18/envs/pro_mlearning/lib/python3.9/site-packages (from pandas>=0.25->seaborn==0.12.2) (2024.1)\n",
      "Requirement already satisfied: zipp>=3.1.0 in /home/betomendes/.pyenv/versions/3.9.18/envs/pro_mlearning/lib/python3.9/site-packages (from importlib-resources>=3.2.0->matplotlib!=3.6.1,>=3.1->seaborn==0.12.2) (3.18.2)\n",
      "Requirement already satisfied: six>=1.5 in /home/betomendes/.pyenv/versions/3.9.18/envs/pro_mlearning/lib/python3.9/site-packages (from python-dateutil>=2.7->matplotlib!=3.6.1,>=3.1->seaborn==0.12.2) (1.16.0)\n",
      "Downloading seaborn-0.12.2-py3-none-any.whl (293 kB)\n",
      "\u001b[2K   \u001b[90m━━━━━━━━━━━━━━━━━━━━━━━━━━━━━━━━━━━━━━━\u001b[0m \u001b[32m293.3/293.3 kB\u001b[0m \u001b[31m477.0 kB/s\u001b[0m eta \u001b[36m0:00:00\u001b[0m00:01\u001b[0m00:01\u001b[0m\n",
      "\u001b[?25hDownloading matplotlib-3.9.0-cp39-cp39-manylinux_2_17_x86_64.manylinux2014_x86_64.whl (8.3 MB)\n",
      "\u001b[2K   \u001b[90m━━━━━━━━━━━━━━━━━━━━━━━━━━━━━━━━━━━━━━━━\u001b[0m \u001b[32m8.3/8.3 MB\u001b[0m \u001b[31m1.2 MB/s\u001b[0m eta \u001b[36m0:00:00\u001b[0m00:01\u001b[0m00:01\u001b[0m0m\n",
      "\u001b[?25hUsing cached contourpy-1.2.1-cp39-cp39-manylinux_2_17_x86_64.manylinux2014_x86_64.whl (304 kB)\n",
      "Using cached cycler-0.12.1-py3-none-any.whl (8.3 kB)\n",
      "Using cached fonttools-4.51.0-cp39-cp39-manylinux_2_17_x86_64.manylinux2014_x86_64.whl (4.6 MB)\n",
      "Using cached importlib_resources-6.4.0-py3-none-any.whl (38 kB)\n",
      "Using cached kiwisolver-1.4.5-cp39-cp39-manylinux_2_12_x86_64.manylinux2010_x86_64.whl (1.6 MB)\n",
      "Using cached pillow-10.3.0-cp39-cp39-manylinux_2_28_x86_64.whl (4.5 MB)\n",
      "Using cached pyparsing-3.1.2-py3-none-any.whl (103 kB)\n",
      "Installing collected packages: pyparsing, pillow, kiwisolver, importlib-resources, fonttools, cycler, contourpy, matplotlib, seaborn\n",
      "Successfully installed contourpy-1.2.1 cycler-0.12.1 fonttools-4.51.0 importlib-resources-6.4.0 kiwisolver-1.4.5 matplotlib-3.9.0 pillow-10.3.0 pyparsing-3.1.2 seaborn-0.12.2\n",
      "Note: you may need to restart the kernel to use updated packages.\n"
     ]
    }
   ],
   "source": [
    "pip install seaborn==0.12.2"
   ]
  },
  {
   "cell_type": "code",
   "execution_count": 6,
   "id": "91657b92-7b58-42bc-8679-af18ac1ba061",
   "metadata": {},
   "outputs": [],
   "source": [
    "# import required libraries\n",
    "from platform import python_version\n",
    "import seaborn # ERROR!"
   ]
  },
  {
   "cell_type": "code",
   "execution_count": 7,
   "id": "8c6e1800-4b2a-459c-8ff2-70da4e141c06",
   "metadata": {},
   "outputs": [
    {
     "name": "stdout",
     "output_type": "stream",
     "text": [
      "\n",
      "\tpython version is 3.9.18\n",
      "\n",
      "\n",
      "\tSeaborn version is 0.12.2\n",
      "\n"
     ]
    }
   ],
   "source": [
    "# print python version\n",
    "print(\n",
    "f\"\\n\\tpython version is {python_version()}\\n\"\n",
    ")\n",
    "print(\n",
    "f\"\\n\\tSeaborn version is {seaborn.__version__}\\n\"\n",
    ")"
   ]
  },
  {
   "cell_type": "code",
   "execution_count": null,
   "id": "a93b420e-179d-4de7-8791-bdab7f925b87",
   "metadata": {},
   "outputs": [],
   "source": []
  }
 ],
 "metadata": {
  "kernelspec": {
   "display_name": "Python 3 (ipykernel)",
   "language": "python",
   "name": "python3"
  },
  "language_info": {
   "codemirror_mode": {
    "name": "ipython",
    "version": 3
   },
   "file_extension": ".py",
   "mimetype": "text/x-python",
   "name": "python",
   "nbconvert_exporter": "python",
   "pygments_lexer": "ipython3",
   "version": "3.9.18"
  }
 },
 "nbformat": 4,
 "nbformat_minor": 5
}
